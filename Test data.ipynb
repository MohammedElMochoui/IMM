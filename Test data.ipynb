{
 "cells": [
  {
   "cell_type": "code",
   "execution_count": 1,
   "metadata": {
    "collapsed": false
   },
   "outputs": [],
   "source": [
    "import pandas as pd\n",
    "import wget\n",
    "import cv2\n",
    "import numpy as np\n",
    "import os\n",
    "import matplotlib.pyplot as plt\n",
    "%matplotlib inline\n",
    "import tqdm"
   ]
  },
  {
   "cell_type": "code",
   "execution_count": 2,
   "metadata": {
    "collapsed": true
   },
   "outputs": [],
   "source": [
    "df = pd.read_csv('openbeelden.csv', header=None)"
   ]
  },
  {
   "cell_type": "code",
   "execution_count": null,
   "metadata": {
    "collapsed": false
   },
   "outputs": [],
   "source": [
    "def loadmovie(file):\n",
    "    cap = cv2.VideoCapture(file)\n",
    "    frameCount = int(cap.get(cv2.CAP_PROP_FRAME_COUNT))\n",
    "    frameWidth = int(cap.get(cv2.CAP_PROP_FRAME_WIDTH))\n",
    "    frameHeight = int(cap.get(cv2.CAP_PROP_FRAME_HEIGHT))\n",
    "    \n",
    "    print(cap.get(cv2.CAP_PROP_FRAME_COUNT))\n",
    "\n",
    "    buf = np.empty((frameCount, frameHeight, frameWidth, 3), np.dtype('uint8'))\n",
    "\n",
    "    fc = 0\n",
    "    ret = True\n",
    "\n",
    "    while (fc < frameCount and ret):\n",
    "        ret, buf[fc] = cap.read()\n",
    "        fc += 1\n",
    "\n",
    "    cap.release()\n",
    "\n",
    "    return buf\n",
    "    "
   ]
  },
  {
   "cell_type": "code",
   "execution_count": null,
   "metadata": {
    "collapsed": false
   },
   "outputs": [],
   "source": [
    "for url in tqdm.tqdm(df[:300][2]):\n",
    "    file = wget.download(url, out='./downloads/')"
   ]
  },
  {
   "cell_type": "code",
   "execution_count": null,
   "metadata": {
    "collapsed": false
   },
   "outputs": [],
   "source": [
    "cap = cv2.VideoCapture('./downloads/10031.10020.WEEKNUMMER411-HRE0000CDBC.mp4')\n",
    "\n",
    "i = 0\n",
    "while cap.isOpened():\n",
    "    ret, frame = cap.read()\n",
    "    if i == 210:\n",
    "        # Convert to grayscale\n",
    "        frame = cv2.cvtColor(frame, cv2.COLOR_BGR2GRAY)\n",
    "        \n",
    "        # Downsample\n",
    "#         pct = 0.2\n",
    "#         newsize = (int(frame.shape[1] * pct), int(frame.shape[0] * pct))\n",
    "#         frame = cv2.resize(frame, newsize)\n",
    "        \n",
    "        print(frame.shape)\n",
    "        plt.imshow(frame.astype('float32'), cmap='gray')\n",
    "        break\n",
    "    i += 1\n",
    "    \n",
    "cap.release()\n"
   ]
  },
  {
   "cell_type": "code",
   "execution_count": 17,
   "metadata": {
    "collapsed": false
   },
   "outputs": [
    {
     "data": {
      "text/plain": [
       "252124"
      ]
     },
     "execution_count": 17,
     "metadata": {},
     "output_type": "execute_result"
    }
   ],
   "source": [
    "numframes = 0\n",
    "\n",
    "for file in os.listdir('./downloads/'):\n",
    "    if file.endswith(\".mp4\"): \n",
    "        cap = cv2.VideoCapture('./downloads/' + file)\n",
    "        frameCount = int(cap.get(cv2.CAP_PROP_FRAME_COUNT))\n",
    "        numframes += frameCount\n",
    "        \n",
    "#         print(file, frameCount)\n",
    "\n",
    "#         for f in range(frameCount):\n",
    "#             ret, frame = cap.read()\n",
    "                \n",
    "#             numframes += 1\n",
    "        cap.release()\n",
    "        \n",
    "numframes"
   ]
  },
  {
   "cell_type": "code",
   "execution_count": null,
   "metadata": {
    "collapsed": true
   },
   "outputs": [],
   "source": []
  }
 ],
 "metadata": {
  "kernelspec": {
   "display_name": "Python 3",
   "language": "python",
   "name": "python3"
  },
  "language_info": {
   "codemirror_mode": {
    "name": "ipython",
    "version": 3
   },
   "file_extension": ".py",
   "mimetype": "text/x-python",
   "name": "python",
   "nbconvert_exporter": "python",
   "pygments_lexer": "ipython3",
   "version": "3.5.1"
  }
 },
 "nbformat": 4,
 "nbformat_minor": 0
}
